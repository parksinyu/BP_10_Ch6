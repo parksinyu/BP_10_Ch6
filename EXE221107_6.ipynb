{
  "nbformat": 4,
  "nbformat_minor": 0,
  "metadata": {
    "colab": {
      "provenance": [],
      "authorship_tag": "ABX9TyPwUH3IzXFsDYXxmNiZFqtg",
      "include_colab_link": true
    },
    "kernelspec": {
      "name": "python3",
      "display_name": "Python 3"
    },
    "language_info": {
      "name": "python"
    }
  },
  "cells": [
    {
      "cell_type": "markdown",
      "metadata": {
        "id": "view-in-github",
        "colab_type": "text"
      },
      "source": [
        "<a href=\"https://colab.research.google.com/github/parksinyu/BP_10_Ch6/blob/main/EXE221107_6.ipynb\" target=\"_parent\"><img src=\"https://colab.research.google.com/assets/colab-badge.svg\" alt=\"Open In Colab\"/></a>"
      ]
    },
    {
      "cell_type": "code",
      "execution_count": 2,
      "metadata": {
        "colab": {
          "base_uri": "https://localhost:8080/"
        },
        "id": "5tq7dAlEGyB8",
        "outputId": "c16f9586-152f-434a-e8c8-1c835e128798"
      },
      "outputs": [
        {
          "output_type": "stream",
          "name": "stdout",
          "text": [
            "2 4 6 8 10 12 14 16 18 20 22 24 26 28 30 32 34 36 38 40 42 44 46 48 50 52 54 56 58 60 62 64 66 68 70 72 74 76 78 80 82 84 86 88 90 92 94 96 98 100 "
          ]
        }
      ],
      "source": [
        "for i in range(2, 101):\n",
        "  if i%2==0 :\n",
        "    print(i, end = \" \")"
      ]
    },
    {
      "cell_type": "code",
      "source": [
        "year = 0\n",
        "balance = 1000\n",
        "\n",
        "while balance <= 2000 :\n",
        "  year = year + 1\n",
        "  interest = balance *0.07\n",
        "  balance = balance + interest\n",
        "print(year, \"년이 걸립니다.\")"
      ],
      "metadata": {
        "colab": {
          "base_uri": "https://localhost:8080/"
        },
        "id": "XmHeU3XzHN-s",
        "outputId": "a937a394-3025-4565-845f-8ec2f17c48b8"
      },
      "execution_count": 5,
      "outputs": [
        {
          "output_type": "stream",
          "name": "stdout",
          "text": [
            "11 년이 걸립니다.\n"
          ]
        }
      ]
    },
    {
      "cell_type": "code",
      "source": [
        "n = 1234\n",
        "sum = 0\n",
        "while n > 0:\n",
        "  digit = n % 10\n",
        "  sum = sum +digit\n",
        "  n = n // 10\n",
        "print(sum)"
      ],
      "metadata": {
        "colab": {
          "base_uri": "https://localhost:8080/"
        },
        "id": "Eev-ItaPHpbc",
        "outputId": "877db050-9779-47f3-94ba-3b1c23c04199"
      },
      "execution_count": 8,
      "outputs": [
        {
          "output_type": "stream",
          "name": "stdout",
          "text": [
            "10\n"
          ]
        }
      ]
    },
    {
      "cell_type": "code",
      "source": [
        "ans = 0\n",
        "while ans != 3*9:\n",
        "  ans = int(input(\"3*9는\"))\n",
        "print(\"맞았습니다.\")"
      ],
      "metadata": {
        "colab": {
          "base_uri": "https://localhost:8080/"
        },
        "id": "BhZu6ullJDFD",
        "outputId": "5f016d13-b81d-4a97-fc0e-f23521f60ac1"
      },
      "execution_count": 13,
      "outputs": [
        {
          "output_type": "stream",
          "name": "stdout",
          "text": [
            "3*9는27\n",
            "맞았습니다.\n"
          ]
        }
      ]
    },
    {
      "cell_type": "code",
      "source": [
        "sum = 0\n",
        "while True:\n",
        "  x = int(input(\"정수를 입력하시오: \"))\n",
        "  if x == 0:\n",
        "    break;\n",
        "  sum = sum + x\n",
        "\n",
        "print(\"합은 \", sum, \"입니다.\")"
      ],
      "metadata": {
        "colab": {
          "base_uri": "https://localhost:8080/"
        },
        "id": "ZqJfqti5H5el",
        "outputId": "eb57b69e-df41-4e43-8197-e76c9a55c99c"
      },
      "execution_count": 12,
      "outputs": [
        {
          "output_type": "stream",
          "name": "stdout",
          "text": [
            "정수를 입력하시오: 1\n",
            "정수를 입력하시오: 2\n",
            "정수를 입력하시오: 3\n",
            "정수를 입력하시오: 0\n",
            "합은  6 입니다.\n"
          ]
        }
      ]
    },
    {
      "cell_type": "code",
      "source": [
        "from random import randint\n",
        "\n",
        "for i in range(3) :\n",
        "  d1 = randint(1, 6)\n",
        "  d2 = randint(1, 6)\n",
        "  print(\"첫번째 주사위=\", d1, \"두번째 주사위=\", d2)"
      ],
      "metadata": {
        "colab": {
          "base_uri": "https://localhost:8080/"
        },
        "id": "7w3VXXBoJR0T",
        "outputId": "1ec08bdf-2ad0-42bd-a32d-99c9855f185c"
      },
      "execution_count": 14,
      "outputs": [
        {
          "output_type": "stream",
          "name": "stdout",
          "text": [
            "첫번째 주사위= 2 두번째 주사위= 2\n",
            "첫번째 주사위= 4 두번째 주사위= 5\n",
            "첫번째 주사위= 4 두번째 주사위= 2\n"
          ]
        }
      ]
    },
    {
      "cell_type": "code",
      "source": [
        "import turtle\n",
        "\n",
        "t = turtle.Turtle()\n",
        "t.shape(\"turtle\")\n",
        "t.left(90)\n",
        "\n",
        "for i in range (1,7):\n",
        " t.forward(100)\n",
        " t.forward(-30)\n",
        " t.left(60)\n",
        " t.forward(30)\n",
        " t.forward(-30)\n",
        " \n",
        " t.right(120)\n",
        " t.forward(30)\n",
        " t.forward(-30)\n",
        " \n",
        " t.left(60)\n",
        " t.forward(-70)\n",
        " t.left(60)"
      ],
      "metadata": {
        "id": "8yP9sUaHKFNc"
      },
      "execution_count": null,
      "outputs": []
    },
    {
      "cell_type": "code",
      "source": [
        "import turtle\n",
        "\n",
        "myPen = turtle.Turtle()\n",
        "myPen.speed(0)\n",
        "myPen.color(\"#FF0000\")\n",
        "\n",
        "for j in range (1,10):\n",
        "    for i in range (1,6):\n",
        "        myPen.left(144)\n",
        "        myPen.forward(200)\n",
        "    myPen.left(10)"
      ],
      "metadata": {
        "id": "_GpayfzGLZDc"
      },
      "execution_count": null,
      "outputs": []
    },
    {
      "cell_type": "code",
      "source": [
        "import turtle\n",
        "import random\n",
        "\n",
        "t = turtle.Turtle()\n",
        "t.shape(\"turtle\")\n",
        "\n",
        "for j in range (1,10):\n",
        "    t.up()\n",
        "    x = random.randint(-200, 200)\n",
        "    y = random.randint(-200, 200)\n",
        "    r = random.randint(10, 200)\n",
        "    t.goto(x, y)\n",
        "    t.down()\n",
        "    t.circle(r)"
      ],
      "metadata": {
        "id": "hwhm9XE3MvAr"
      },
      "execution_count": null,
      "outputs": []
    },
    {
      "cell_type": "code",
      "source": [
        "import turtle\n",
        "\n",
        "t = turtle.Turtle()\n",
        "t.shape(\"turtle\")\n",
        "\n",
        "for i in range(5):\n",
        "    t.forward(200);\n",
        "    t.right(90)\n",
        "    t.forward(20);\n",
        "    t.right(90)\n",
        "    t.forward(200);\n",
        "    t.left(90)\n",
        "    t.forward(20);\n",
        "    t.left(90)"
      ],
      "metadata": {
        "id": "gWcv8kxdNRvD"
      },
      "execution_count": null,
      "outputs": []
    }
  ]
}